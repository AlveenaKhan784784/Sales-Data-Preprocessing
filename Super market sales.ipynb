{
 "cells": [
  {
   "cell_type": "code",
   "execution_count": 1,
   "id": "af316271",
   "metadata": {},
   "outputs": [],
   "source": [
    "import pandas as pd\n",
    "import numpy as np\n",
    "import seaborn as sns\n",
    "import matplotlib.pyplot as plt"
   ]
  },
  {
   "cell_type": "code",
   "execution_count": 9,
   "id": "4269f86a",
   "metadata": {},
   "outputs": [],
   "source": [
    "df = pd.read_csv('supermarket_sales.csv')"
   ]
  },
  {
   "cell_type": "code",
   "execution_count": 10,
   "id": "a9bb9578",
   "metadata": {},
   "outputs": [
    {
     "data": {
      "text/html": [
       "<div>\n",
       "<style scoped>\n",
       "    .dataframe tbody tr th:only-of-type {\n",
       "        vertical-align: middle;\n",
       "    }\n",
       "\n",
       "    .dataframe tbody tr th {\n",
       "        vertical-align: top;\n",
       "    }\n",
       "\n",
       "    .dataframe thead th {\n",
       "        text-align: right;\n",
       "    }\n",
       "</style>\n",
       "<table border=\"1\" class=\"dataframe\">\n",
       "  <thead>\n",
       "    <tr style=\"text-align: right;\">\n",
       "      <th></th>\n",
       "      <th>invoice_id</th>\n",
       "      <th>branch</th>\n",
       "      <th>city</th>\n",
       "      <th>customer_type</th>\n",
       "      <th>gender_customer</th>\n",
       "      <th>product_line</th>\n",
       "      <th>unit_cost</th>\n",
       "      <th>quantity</th>\n",
       "      <th>5pct_markup</th>\n",
       "      <th>revenue</th>\n",
       "      <th>date</th>\n",
       "      <th>time</th>\n",
       "      <th>payment_method</th>\n",
       "      <th>cogs</th>\n",
       "      <th>gm_pct</th>\n",
       "      <th>gross_income</th>\n",
       "      <th>rating</th>\n",
       "    </tr>\n",
       "  </thead>\n",
       "  <tbody>\n",
       "    <tr>\n",
       "      <th>0</th>\n",
       "      <td>750-67-8428</td>\n",
       "      <td>A</td>\n",
       "      <td>Yangon</td>\n",
       "      <td>Member</td>\n",
       "      <td>Female</td>\n",
       "      <td>Health and beauty</td>\n",
       "      <td>74.69</td>\n",
       "      <td>7</td>\n",
       "      <td>26.1415</td>\n",
       "      <td>548.9715</td>\n",
       "      <td>01/05/19</td>\n",
       "      <td>13:08</td>\n",
       "      <td>Ewallet</td>\n",
       "      <td>522.83</td>\n",
       "      <td>4.761905</td>\n",
       "      <td>26.1415</td>\n",
       "      <td>9.1</td>\n",
       "    </tr>\n",
       "    <tr>\n",
       "      <th>1</th>\n",
       "      <td>226-31-3081</td>\n",
       "      <td>C</td>\n",
       "      <td>Naypyitaw</td>\n",
       "      <td>Normal</td>\n",
       "      <td>Female</td>\n",
       "      <td>Electronic accessories</td>\n",
       "      <td>15.28</td>\n",
       "      <td>5</td>\n",
       "      <td>3.8200</td>\n",
       "      <td>80.2200</td>\n",
       "      <td>03/08/19</td>\n",
       "      <td>10:29</td>\n",
       "      <td>Cash</td>\n",
       "      <td>76.40</td>\n",
       "      <td>4.761905</td>\n",
       "      <td>3.8200</td>\n",
       "      <td>9.6</td>\n",
       "    </tr>\n",
       "    <tr>\n",
       "      <th>2</th>\n",
       "      <td>631-41-3108</td>\n",
       "      <td>A</td>\n",
       "      <td>Yangon</td>\n",
       "      <td>Normal</td>\n",
       "      <td>Male</td>\n",
       "      <td>Home and lifestyle</td>\n",
       "      <td>46.33</td>\n",
       "      <td>7</td>\n",
       "      <td>16.2155</td>\n",
       "      <td>340.5255</td>\n",
       "      <td>03/03/19</td>\n",
       "      <td>13:23</td>\n",
       "      <td>Credit card</td>\n",
       "      <td>324.31</td>\n",
       "      <td>4.761905</td>\n",
       "      <td>16.2155</td>\n",
       "      <td>7.4</td>\n",
       "    </tr>\n",
       "    <tr>\n",
       "      <th>3</th>\n",
       "      <td>123-19-1176</td>\n",
       "      <td>A</td>\n",
       "      <td>Yangon</td>\n",
       "      <td>Member</td>\n",
       "      <td>Male</td>\n",
       "      <td>Health and beauty</td>\n",
       "      <td>58.22</td>\n",
       "      <td>8</td>\n",
       "      <td>23.2880</td>\n",
       "      <td>489.0480</td>\n",
       "      <td>1/27/2019</td>\n",
       "      <td>20:33</td>\n",
       "      <td>Ewallet</td>\n",
       "      <td>465.76</td>\n",
       "      <td>4.761905</td>\n",
       "      <td>23.2880</td>\n",
       "      <td>8.4</td>\n",
       "    </tr>\n",
       "    <tr>\n",
       "      <th>4</th>\n",
       "      <td>373-73-7910</td>\n",
       "      <td>A</td>\n",
       "      <td>Yangon</td>\n",
       "      <td>Normal</td>\n",
       "      <td>Male</td>\n",
       "      <td>Sports and travel</td>\n",
       "      <td>86.31</td>\n",
       "      <td>7</td>\n",
       "      <td>30.2085</td>\n",
       "      <td>634.3785</td>\n",
       "      <td>02/08/19</td>\n",
       "      <td>10:37</td>\n",
       "      <td>Ewallet</td>\n",
       "      <td>604.17</td>\n",
       "      <td>4.761905</td>\n",
       "      <td>30.2085</td>\n",
       "      <td>5.3</td>\n",
       "    </tr>\n",
       "  </tbody>\n",
       "</table>\n",
       "</div>"
      ],
      "text/plain": [
       "    invoice_id branch       city customer_type gender_customer  \\\n",
       "0  750-67-8428      A     Yangon        Member          Female   \n",
       "1  226-31-3081      C  Naypyitaw        Normal          Female   \n",
       "2  631-41-3108      A     Yangon        Normal            Male   \n",
       "3  123-19-1176      A     Yangon        Member            Male   \n",
       "4  373-73-7910      A     Yangon        Normal            Male   \n",
       "\n",
       "             product_line  unit_cost  quantity  5pct_markup   revenue  \\\n",
       "0       Health and beauty      74.69         7      26.1415  548.9715   \n",
       "1  Electronic accessories      15.28         5       3.8200   80.2200   \n",
       "2      Home and lifestyle      46.33         7      16.2155  340.5255   \n",
       "3       Health and beauty      58.22         8      23.2880  489.0480   \n",
       "4       Sports and travel      86.31         7      30.2085  634.3785   \n",
       "\n",
       "        date   time payment_method    cogs    gm_pct  gross_income  rating  \n",
       "0   01/05/19  13:08        Ewallet  522.83  4.761905       26.1415     9.1  \n",
       "1   03/08/19  10:29           Cash   76.40  4.761905        3.8200     9.6  \n",
       "2   03/03/19  13:23    Credit card  324.31  4.761905       16.2155     7.4  \n",
       "3  1/27/2019  20:33        Ewallet  465.76  4.761905       23.2880     8.4  \n",
       "4   02/08/19  10:37        Ewallet  604.17  4.761905       30.2085     5.3  "
      ]
     },
     "execution_count": 10,
     "metadata": {},
     "output_type": "execute_result"
    }
   ],
   "source": [
    "df.head()"
   ]
  },
  {
   "cell_type": "markdown",
   "id": "282a3b84",
   "metadata": {},
   "source": [
    "### Understanding Dataset"
   ]
  },
  {
   "cell_type": "code",
   "execution_count": 11,
   "id": "48c184cd",
   "metadata": {},
   "outputs": [
    {
     "data": {
      "text/plain": [
       "(1000, 17)"
      ]
     },
     "execution_count": 11,
     "metadata": {},
     "output_type": "execute_result"
    }
   ],
   "source": [
    "df.shape"
   ]
  },
  {
   "cell_type": "code",
   "execution_count": 12,
   "id": "dfa7b092",
   "metadata": {},
   "outputs": [
    {
     "name": "stdout",
     "output_type": "stream",
     "text": [
      "<class 'pandas.core.frame.DataFrame'>\n",
      "RangeIndex: 1000 entries, 0 to 999\n",
      "Data columns (total 17 columns):\n",
      " #   Column           Non-Null Count  Dtype  \n",
      "---  ------           --------------  -----  \n",
      " 0   invoice_id       1000 non-null   object \n",
      " 1   branch           1000 non-null   object \n",
      " 2   city             1000 non-null   object \n",
      " 3   customer_type    1000 non-null   object \n",
      " 4   gender_customer  1000 non-null   object \n",
      " 5   product_line     1000 non-null   object \n",
      " 6   unit_cost        1000 non-null   float64\n",
      " 7   quantity         1000 non-null   int64  \n",
      " 8   5pct_markup      1000 non-null   float64\n",
      " 9   revenue          1000 non-null   float64\n",
      " 10  date             1000 non-null   object \n",
      " 11  time             1000 non-null   object \n",
      " 12  payment_method   1000 non-null   object \n",
      " 13  cogs             1000 non-null   float64\n",
      " 14  gm_pct           1000 non-null   float64\n",
      " 15  gross_income     1000 non-null   float64\n",
      " 16  rating           1000 non-null   float64\n",
      "dtypes: float64(7), int64(1), object(9)\n",
      "memory usage: 132.9+ KB\n"
     ]
    }
   ],
   "source": [
    "df.info()"
   ]
  },
  {
   "cell_type": "code",
   "execution_count": 13,
   "id": "4c1d427f",
   "metadata": {},
   "outputs": [
    {
     "data": {
      "text/html": [
       "<div>\n",
       "<style scoped>\n",
       "    .dataframe tbody tr th:only-of-type {\n",
       "        vertical-align: middle;\n",
       "    }\n",
       "\n",
       "    .dataframe tbody tr th {\n",
       "        vertical-align: top;\n",
       "    }\n",
       "\n",
       "    .dataframe thead th {\n",
       "        text-align: right;\n",
       "    }\n",
       "</style>\n",
       "<table border=\"1\" class=\"dataframe\">\n",
       "  <thead>\n",
       "    <tr style=\"text-align: right;\">\n",
       "      <th></th>\n",
       "      <th>count</th>\n",
       "      <th>mean</th>\n",
       "      <th>std</th>\n",
       "      <th>min</th>\n",
       "      <th>25%</th>\n",
       "      <th>50%</th>\n",
       "      <th>75%</th>\n",
       "      <th>max</th>\n",
       "    </tr>\n",
       "  </thead>\n",
       "  <tbody>\n",
       "    <tr>\n",
       "      <th>unit_cost</th>\n",
       "      <td>1000.0</td>\n",
       "      <td>55.672130</td>\n",
       "      <td>2.649463e+01</td>\n",
       "      <td>10.080000</td>\n",
       "      <td>32.875000</td>\n",
       "      <td>55.230000</td>\n",
       "      <td>77.935000</td>\n",
       "      <td>99.960000</td>\n",
       "    </tr>\n",
       "    <tr>\n",
       "      <th>quantity</th>\n",
       "      <td>1000.0</td>\n",
       "      <td>5.510000</td>\n",
       "      <td>2.923431e+00</td>\n",
       "      <td>1.000000</td>\n",
       "      <td>3.000000</td>\n",
       "      <td>5.000000</td>\n",
       "      <td>8.000000</td>\n",
       "      <td>10.000000</td>\n",
       "    </tr>\n",
       "    <tr>\n",
       "      <th>5pct_markup</th>\n",
       "      <td>1000.0</td>\n",
       "      <td>15.379369</td>\n",
       "      <td>1.170883e+01</td>\n",
       "      <td>0.508500</td>\n",
       "      <td>5.924875</td>\n",
       "      <td>12.088000</td>\n",
       "      <td>22.445250</td>\n",
       "      <td>49.650000</td>\n",
       "    </tr>\n",
       "    <tr>\n",
       "      <th>revenue</th>\n",
       "      <td>1000.0</td>\n",
       "      <td>322.966749</td>\n",
       "      <td>2.458853e+02</td>\n",
       "      <td>10.678500</td>\n",
       "      <td>124.422375</td>\n",
       "      <td>253.848000</td>\n",
       "      <td>471.350250</td>\n",
       "      <td>1042.650000</td>\n",
       "    </tr>\n",
       "    <tr>\n",
       "      <th>cogs</th>\n",
       "      <td>1000.0</td>\n",
       "      <td>307.587380</td>\n",
       "      <td>2.341765e+02</td>\n",
       "      <td>10.170000</td>\n",
       "      <td>118.497500</td>\n",
       "      <td>241.760000</td>\n",
       "      <td>448.905000</td>\n",
       "      <td>993.000000</td>\n",
       "    </tr>\n",
       "    <tr>\n",
       "      <th>gm_pct</th>\n",
       "      <td>1000.0</td>\n",
       "      <td>4.761905</td>\n",
       "      <td>6.131498e-14</td>\n",
       "      <td>4.761905</td>\n",
       "      <td>4.761905</td>\n",
       "      <td>4.761905</td>\n",
       "      <td>4.761905</td>\n",
       "      <td>4.761905</td>\n",
       "    </tr>\n",
       "    <tr>\n",
       "      <th>gross_income</th>\n",
       "      <td>1000.0</td>\n",
       "      <td>15.379369</td>\n",
       "      <td>1.170883e+01</td>\n",
       "      <td>0.508500</td>\n",
       "      <td>5.924875</td>\n",
       "      <td>12.088000</td>\n",
       "      <td>22.445250</td>\n",
       "      <td>49.650000</td>\n",
       "    </tr>\n",
       "    <tr>\n",
       "      <th>rating</th>\n",
       "      <td>1000.0</td>\n",
       "      <td>6.972700</td>\n",
       "      <td>1.718580e+00</td>\n",
       "      <td>4.000000</td>\n",
       "      <td>5.500000</td>\n",
       "      <td>7.000000</td>\n",
       "      <td>8.500000</td>\n",
       "      <td>10.000000</td>\n",
       "    </tr>\n",
       "  </tbody>\n",
       "</table>\n",
       "</div>"
      ],
      "text/plain": [
       "               count        mean           std        min         25%  \\\n",
       "unit_cost     1000.0   55.672130  2.649463e+01  10.080000   32.875000   \n",
       "quantity      1000.0    5.510000  2.923431e+00   1.000000    3.000000   \n",
       "5pct_markup   1000.0   15.379369  1.170883e+01   0.508500    5.924875   \n",
       "revenue       1000.0  322.966749  2.458853e+02  10.678500  124.422375   \n",
       "cogs          1000.0  307.587380  2.341765e+02  10.170000  118.497500   \n",
       "gm_pct        1000.0    4.761905  6.131498e-14   4.761905    4.761905   \n",
       "gross_income  1000.0   15.379369  1.170883e+01   0.508500    5.924875   \n",
       "rating        1000.0    6.972700  1.718580e+00   4.000000    5.500000   \n",
       "\n",
       "                     50%         75%          max  \n",
       "unit_cost      55.230000   77.935000    99.960000  \n",
       "quantity        5.000000    8.000000    10.000000  \n",
       "5pct_markup    12.088000   22.445250    49.650000  \n",
       "revenue       253.848000  471.350250  1042.650000  \n",
       "cogs          241.760000  448.905000   993.000000  \n",
       "gm_pct          4.761905    4.761905     4.761905  \n",
       "gross_income   12.088000   22.445250    49.650000  \n",
       "rating          7.000000    8.500000    10.000000  "
      ]
     },
     "execution_count": 13,
     "metadata": {},
     "output_type": "execute_result"
    }
   ],
   "source": [
    "df.describe().T"
   ]
  },
  {
   "cell_type": "code",
   "execution_count": 14,
   "id": "34611581",
   "metadata": {},
   "outputs": [
    {
     "data": {
      "text/plain": [
       "invoice_id         0\n",
       "branch             0\n",
       "city               0\n",
       "customer_type      0\n",
       "gender_customer    0\n",
       "product_line       0\n",
       "unit_cost          0\n",
       "quantity           0\n",
       "5pct_markup        0\n",
       "revenue            0\n",
       "date               0\n",
       "time               0\n",
       "payment_method     0\n",
       "cogs               0\n",
       "gm_pct             0\n",
       "gross_income       0\n",
       "rating             0\n",
       "dtype: int64"
      ]
     },
     "execution_count": 14,
     "metadata": {},
     "output_type": "execute_result"
    }
   ],
   "source": [
    "df.isnull().sum()"
   ]
  },
  {
   "cell_type": "markdown",
   "id": "c343a948",
   "metadata": {},
   "source": [
    "### Checking Duplicates"
   ]
  },
  {
   "cell_type": "code",
   "execution_count": 15,
   "id": "d2a07366",
   "metadata": {},
   "outputs": [
    {
     "data": {
      "text/plain": [
       "0"
      ]
     },
     "execution_count": 15,
     "metadata": {},
     "output_type": "execute_result"
    }
   ],
   "source": [
    "df.duplicated().sum()"
   ]
  },
  {
   "cell_type": "markdown",
   "id": "64608158",
   "metadata": {},
   "source": [
    "### Checking Outliers"
   ]
  },
  {
   "cell_type": "code",
   "execution_count": 17,
   "id": "4735aa14",
   "metadata": {},
   "outputs": [
    {
     "name": "stdout",
     "output_type": "stream",
     "text": [
      "Column: unit_cost\n",
      "  Lower Bound: -34.715\n",
      "  Upper Bound: 145.525\n",
      "  Number of Outliers: 0\n",
      "  Outliers Indices: []\n",
      "\n",
      "Column: quantity\n",
      "  Lower Bound: -4.5\n",
      "  Upper Bound: 15.5\n",
      "  Number of Outliers: 0\n",
      "  Outliers Indices: []\n",
      "\n",
      "Column: 5pct_markup\n",
      "  Lower Bound: -18.855687500000002\n",
      "  Upper Bound: 47.2258125\n",
      "  Number of Outliers: 9\n",
      "  Outliers Indices: [166, 167, 350, 357, 422, 557, 699, 792, 996]\n",
      "\n",
      "Column: revenue\n",
      "  Lower Bound: -395.9694375\n",
      "  Upper Bound: 991.7420625\n",
      "  Number of Outliers: 9\n",
      "  Outliers Indices: [166, 167, 350, 357, 422, 557, 699, 792, 996]\n",
      "\n",
      "Column: cogs\n",
      "  Lower Bound: -377.11375000000004\n",
      "  Upper Bound: 944.5162500000001\n",
      "  Number of Outliers: 9\n",
      "  Outliers Indices: [166, 167, 350, 357, 422, 557, 699, 792, 996]\n",
      "\n",
      "Column: gm_pct\n",
      "  Lower Bound: 4.761904762\n",
      "  Upper Bound: 4.761904762\n",
      "  Number of Outliers: 0\n",
      "  Outliers Indices: []\n",
      "\n",
      "Column: gross_income\n",
      "  Lower Bound: -18.855687500000002\n",
      "  Upper Bound: 47.2258125\n",
      "  Number of Outliers: 9\n",
      "  Outliers Indices: [166, 167, 350, 357, 422, 557, 699, 792, 996]\n",
      "\n",
      "Column: rating\n",
      "  Lower Bound: 1.0\n",
      "  Upper Bound: 13.0\n",
      "  Number of Outliers: 0\n",
      "  Outliers Indices: []\n",
      "\n"
     ]
    }
   ],
   "source": [
    "def find_outliers_iqr(df):\n",
    "    outlier_summary = {}\n",
    "    for column in df.select_dtypes(include=['float64', 'int64']).columns:\n",
    "        Q1 = df[column].quantile(0.25)\n",
    "        Q3 = df[column].quantile(0.75)\n",
    "        IQR = Q3 - Q1\n",
    "        lower_bound = Q1 - 1.5 * IQR\n",
    "        upper_bound = Q3 + 1.5 * IQR\n",
    "        \n",
    "        # Identify outliers\n",
    "        outliers = df[(df[column] < lower_bound) | (df[column] > upper_bound)]\n",
    "        outlier_summary[column] = {\n",
    "            'Lower Bound': lower_bound,\n",
    "            'Upper Bound': upper_bound,\n",
    "            'Number of Outliers': outliers.shape[0],\n",
    "            'Outliers Indices': outliers.index.tolist()\n",
    "        }\n",
    "    return outlier_summary\n",
    "\n",
    "# Find outliers in the dataset\n",
    "outliers_summary = find_outliers_iqr(df)\n",
    "\n",
    "# Display the summary of outliers for each column\n",
    "for column, summary in outliers_summary.items():\n",
    "    print(f\"Column: {column}\")\n",
    "    print(f\"  Lower Bound: {summary['Lower Bound']}\")\n",
    "    print(f\"  Upper Bound: {summary['Upper Bound']}\")\n",
    "    print(f\"  Number of Outliers: {summary['Number of Outliers']}\")\n",
    "    print(f\"  Outliers Indices: {summary['Outliers Indices']}\")\n",
    "    print()  "
   ]
  },
  {
   "cell_type": "markdown",
   "id": "453fe2e0",
   "metadata": {},
   "source": [
    "#### Column: 5pct_markup, revenue, cogs, gross_income has outliers"
   ]
  },
  {
   "cell_type": "code",
   "execution_count": 23,
   "id": "d934fc5d",
   "metadata": {},
   "outputs": [
    {
     "data": {
      "text/plain": [
       "<AxesSubplot:xlabel='5pct_markup', ylabel='Count'>"
      ]
     },
     "execution_count": 23,
     "metadata": {},
     "output_type": "execute_result"
    },
    {
     "data": {
      "image/png": "[encoded data removed]",
      "text/plain": [
       "<Figure size 640x480 with 1 Axes>"
      ]
     },
     "metadata": {},
     "output_type": "display_data"
    }
   ],
   "source": [
    "sns.histplot(df['5pct_markup'],kde = True)"
   ]
  },
  {
   "cell_type": "code",
   "execution_count": 24,
   "id": "5128939f",
   "metadata": {},
   "outputs": [
    {
     "data": {
      "text/plain": [
       "<AxesSubplot:xlabel='revenue', ylabel='Count'>"
      ]
     },
     "execution_count": 24,
     "metadata": {},
     "output_type": "execute_result"
    },
    {
     "data": {
      "image/png": "[encoded data removed]",
      "text/plain": [
       "<Figure size 640x480 with 1 Axes>"
      ]
     },
     "metadata": {},
     "output_type": "display_data"
    }
   ],
   "source": [
    "sns.histplot(df['revenue'],kde = True)"
   ]
  },
  {
   "cell_type": "code",
   "execution_count": 25,
   "id": "88e41a17",
   "metadata": {},
   "outputs": [
    {
     "data": {
      "text/plain": [
       "<AxesSubplot:xlabel='cogs', ylabel='Count'>"
      ]
     },
     "execution_count": 25,
     "metadata": {},
     "output_type": "execute_result"
    },
    {
     "data": {
      "image/png": "[encoded data removed]",
      "text/plain": [
       "<Figure size 640x480 with 1 Axes>"
      ]
     },
     "metadata": {},
     "output_type": "display_data"
    }
   ],
   "source": [
    "sns.histplot(df['cogs'],kde = True)"
   ]
  },
  {
   "cell_type": "code",
   "execution_count": 26,
   "id": "6743e5b0",
   "metadata": {},
   "outputs": [
    {
     "data": {
      "text/plain": [
       "<AxesSubplot:xlabel='gross_income', ylabel='Count'>"
      ]
     },
     "execution_count": 26,
     "metadata": {},
     "output_type": "execute_result"
    },
    {
     "data": {
      "image/png": "[encoded data removed]",
      "text/plain": [
       "<Figure size 640x480 with 1 Axes>"
      ]
     },
     "metadata": {},
     "output_type": "display_data"
    }
   ],
   "source": [
    "sns.histplot(df['gross_income'],kde = True)"
   ]
  },
  {
   "cell_type": "markdown",
   "id": "a2924c88",
   "metadata": {},
   "source": [
    "#### Capping"
   ]
  },
  {
   "cell_type": "code",
   "execution_count": 21,
   "id": "a3f157be",
   "metadata": {},
   "outputs": [
    {
     "name": "stdout",
     "output_type": "stream",
     "text": [
      "      invoice_id branch       city customer_type gender_customer  \\\n",
      "0    750-67-8428      A     Yangon        Member          Female   \n",
      "1    226-31-3081      C  Naypyitaw        Normal          Female   \n",
      "2    631-41-3108      A     Yangon        Normal            Male   \n",
      "3    123-19-1176      A     Yangon        Member            Male   \n",
      "4    373-73-7910      A     Yangon        Normal            Male   \n",
      "..           ...    ...        ...           ...             ...   \n",
      "995  233-67-5758      C  Naypyitaw        Normal            Male   \n",
      "996  303-96-2227      B   Mandalay        Normal          Female   \n",
      "997  727-02-1313      A     Yangon        Member            Male   \n",
      "998  347-56-2442      A     Yangon        Normal            Male   \n",
      "999  849-09-3807      A     Yangon        Member          Female   \n",
      "\n",
      "               product_line  unit_cost  quantity  5pct_markup     revenue  \\\n",
      "0         Health and beauty      74.69         7    26.141500  548.971500   \n",
      "1    Electronic accessories      15.28         5     3.820000   80.220000   \n",
      "2        Home and lifestyle      46.33         7    16.215500  340.525500   \n",
      "3         Health and beauty      58.22         8    23.288000  489.048000   \n",
      "4         Sports and travel      86.31         7    30.208500  634.378500   \n",
      "..                      ...        ...       ...          ...         ...   \n",
      "995       Health and beauty      40.35         1     2.017500   42.367500   \n",
      "996      Home and lifestyle      97.38        10    47.225813  991.742062   \n",
      "997      Food and beverages      31.84         1     1.592000   33.432000   \n",
      "998      Home and lifestyle      65.82         1     3.291000   69.111000   \n",
      "999     Fashion accessories      88.34         7    30.919000  649.299000   \n",
      "\n",
      "          date   time payment_method       cogs    gm_pct  gross_income  \\\n",
      "0     01/05/19  13:08        Ewallet  522.83000  4.761905     26.141500   \n",
      "1     03/08/19  10:29           Cash   76.40000  4.761905      3.820000   \n",
      "2     03/03/19  13:23    Credit card  324.31000  4.761905     16.215500   \n",
      "3    1/27/2019  20:33        Ewallet  465.76000  4.761905     23.288000   \n",
      "4     02/08/19  10:37        Ewallet  604.17000  4.761905     30.208500   \n",
      "..         ...    ...            ...        ...       ...           ...   \n",
      "995  1/29/2019  13:46        Ewallet   40.35000  4.761905      2.017500   \n",
      "996   03/02/19  17:16        Ewallet  944.51625  4.761905     47.225813   \n",
      "997   02/09/19  13:22           Cash   31.84000  4.761905      1.592000   \n",
      "998  2/22/2019  15:33           Cash   65.82000  4.761905      3.291000   \n",
      "999  2/18/2019  13:28           Cash  618.38000  4.761905     30.919000   \n",
      "\n",
      "     rating  \n",
      "0       9.1  \n",
      "1       9.6  \n",
      "2       7.4  \n",
      "3       8.4  \n",
      "4       5.3  \n",
      "..      ...  \n",
      "995     6.2  \n",
      "996     4.4  \n",
      "997     7.7  \n",
      "998     4.1  \n",
      "999     6.6  \n",
      "\n",
      "[1000 rows x 17 columns]\n"
     ]
    }
   ],
   "source": [
    "def cap_outliers(column):\n",
    "    Q1 = column.quantile(0.25)\n",
    "    Q3 = column.quantile(0.75)\n",
    "    IQR = Q3 - Q1\n",
    "    upper_bound = Q3 + 1.5 * IQR\n",
    "    return np.where(column > upper_bound, upper_bound, column)\n",
    "\n",
    "# Apply capping to multiple columns\n",
    "columns_to_cap = ['5pct_markup', 'revenue', 'cogs', 'gross_income']\n",
    "for column in columns_to_cap:\n",
    "    df[column] = cap_outliers(df[column])\n",
    "\n",
    "# Display the updated DataFrame\n",
    "print(df)"
   ]
  },
  {
   "cell_type": "markdown",
   "id": "d4abe240",
   "metadata": {},
   "source": [
    "### Final checking"
   ]
  },
  {
   "cell_type": "code",
   "execution_count": 22,
   "id": "6c6e7d62",
   "metadata": {},
   "outputs": [
    {
     "name": "stdout",
     "output_type": "stream",
     "text": [
      "Column: unit_cost\n",
      "  Lower Bound: -34.715\n",
      "  Upper Bound: 145.525\n",
      "  Number of Outliers: 0\n",
      "  Outliers Indices: []\n",
      "\n",
      "Column: quantity\n",
      "  Lower Bound: -4.5\n",
      "  Upper Bound: 15.5\n",
      "  Number of Outliers: 0\n",
      "  Outliers Indices: []\n",
      "\n",
      "Column: 5pct_markup\n",
      "  Lower Bound: -18.855687500000002\n",
      "  Upper Bound: 47.2258125\n",
      "  Number of Outliers: 0\n",
      "  Outliers Indices: []\n",
      "\n",
      "Column: revenue\n",
      "  Lower Bound: -395.9694375\n",
      "  Upper Bound: 991.7420625\n",
      "  Number of Outliers: 0\n",
      "  Outliers Indices: []\n",
      "\n",
      "Column: cogs\n",
      "  Lower Bound: -377.11375000000004\n",
      "  Upper Bound: 944.5162500000001\n",
      "  Number of Outliers: 0\n",
      "  Outliers Indices: []\n",
      "\n",
      "Column: gm_pct\n",
      "  Lower Bound: 4.761904762\n",
      "  Upper Bound: 4.761904762\n",
      "  Number of Outliers: 0\n",
      "  Outliers Indices: []\n",
      "\n",
      "Column: gross_income\n",
      "  Lower Bound: -18.855687500000002\n",
      "  Upper Bound: 47.2258125\n",
      "  Number of Outliers: 0\n",
      "  Outliers Indices: []\n",
      "\n",
      "Column: rating\n",
      "  Lower Bound: 1.0\n",
      "  Upper Bound: 13.0\n",
      "  Number of Outliers: 0\n",
      "  Outliers Indices: []\n",
      "\n"
     ]
    }
   ],
   "source": [
    "def find_outliers_iqr(df):\n",
    "    outlier_summary = {}\n",
    "    for column in df.select_dtypes(include=['float64', 'int64']).columns:\n",
    "        Q1 = df[column].quantile(0.25)\n",
    "        Q3 = df[column].quantile(0.75)\n",
    "        IQR = Q3 - Q1\n",
    "        lower_bound = Q1 - 1.5 * IQR\n",
    "        upper_bound = Q3 + 1.5 * IQR\n",
    "        \n",
    "        # Identify outliers\n",
    "        outliers = df[(df[column] < lower_bound) | (df[column] > upper_bound)]\n",
    "        outlier_summary[column] = {\n",
    "            'Lower Bound': lower_bound,\n",
    "            'Upper Bound': upper_bound,\n",
    "            'Number of Outliers': outliers.shape[0],\n",
    "            'Outliers Indices': outliers.index.tolist()\n",
    "        }\n",
    "    return outlier_summary\n",
    "\n",
    "# Find outliers in the dataset\n",
    "outliers_summary = find_outliers_iqr(df)\n",
    "\n",
    "# Display the summary of outliers for each column\n",
    "for column, summary in outliers_summary.items():\n",
    "    print(f\"Column: {column}\")\n",
    "    print(f\"  Lower Bound: {summary['Lower Bound']}\")\n",
    "    print(f\"  Upper Bound: {summary['Upper Bound']}\")\n",
    "    print(f\"  Number of Outliers: {summary['Number of Outliers']}\")\n",
    "    print(f\"  Outliers Indices: {summary['Outliers Indices']}\")\n",
    "    print()  "
   ]
  }
 ],
 "metadata": {
  "kernelspec": {
   "display_name": "Python 3 (ipykernel)",
   "language": "python",
   "name": "python3"
  },
  "language_info": {
   "codemirror_mode": {
    "name": "ipython",
    "version": 3
   },
   "file_extension": ".py",
   "mimetype": "text/x-python",
   "name": "python",
   "nbconvert_exporter": "python",
   "pygments_lexer": "ipython3",
   "version": "3.9.13"
  }
 },
 "nbformat": 4,
 "nbformat_minor": 5
}
